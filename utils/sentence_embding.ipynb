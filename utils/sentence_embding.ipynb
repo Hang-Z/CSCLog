{
 "cells": [
  {
   "cell_type": "code",
   "execution_count": 1,
   "id": "e1ed47ad-9b8f-4161-9bb0-c34489882c0c",
   "metadata": {},
   "outputs": [],
   "source": [
    "from collections import defaultdict\n",
    "import math\n",
    "import operator\n",
    "import pandas as pd\n",
    "import re\n",
    "import torch\n",
    "import json\n",
    "\n",
    "from transformers import BertTokenizer, BertModel, AutoTokenizer"
   ]
  },
  {
   "cell_type": "code",
   "execution_count": 2,
   "id": "875701d3-42ad-4bc9-bd1b-d652b24a61f8",
   "metadata": {},
   "outputs": [],
   "source": [
    "def get_keys(sentence):\n",
    "    stopwords = ['in','on','with','by','for','at','about','under','of','to','from']\n",
    "    line = sentence.lower()\n",
    "    line = re.sub('[^\\w\\u4e00-\\u9fff]+',' ',line)\n",
    "    return [str(x) for x in line.split() if x not in stopwords]\n",
    "    \n",
    "def feature_select(list_words):\n",
    "    #总词频统计\n",
    "    doc_frequency=defaultdict(int)\n",
    "    for word_list in list_words:\n",
    "        for i in word_list:\n",
    "            doc_frequency[i]+=1\n",
    " \n",
    "    #计算每个词的TF值\n",
    "    word_tf={}  #存储每个词的tf值\n",
    "    for i in doc_frequency:\n",
    "        word_tf[i]=doc_frequency[i]/sum(doc_frequency.values())\n",
    " \n",
    "    #计算每个词的IDF值\n",
    "    doc_num=len(list_words)\n",
    "    word_idf={} #存储每个词的idf值\n",
    "    word_doc=defaultdict(int) #存储包含该词的文档数\n",
    "    for i in doc_frequency:\n",
    "        for j in list_words:\n",
    "            if i in j:\n",
    "                word_doc[i]+=1\n",
    "    for i in doc_frequency:\n",
    "        word_idf[i]=math.log(doc_num/(word_doc[i]+1))\n",
    " \n",
    "    #计算每个词的TF*IDF的值\n",
    "    word_tf_idf={}\n",
    "    for i in doc_frequency:\n",
    "        word_tf_idf[i]=word_tf[i]*word_idf[i]\n",
    " \n",
    "    # 对字典按值由大到小排序\n",
    "    dict_feature_select=sorted(word_tf_idf.items(),key=operator.itemgetter(1),reverse=True)\n",
    "    return dict_feature_select"
   ]
  },
  {
   "cell_type": "code",
   "execution_count": 3,
   "id": "09c89daf-fc20-4b79-87d9-7c5722f3576e",
   "metadata": {},
   "outputs": [],
   "source": [
    "def word_vec(keys, tokenizer, model):\n",
    "    encode_keys = {}\n",
    "    for word, weight in keys:\n",
    "        encoded_input = tokenizer(word, return_tensors='pt')\n",
    "        output = model(**encoded_input)\n",
    "        encode_keys[word] = torch.mul(output[0].mean(dim = 1, keepdim = False)[0], weight)\n",
    "    \n",
    "    return encode_keys\n",
    "\n",
    "def sentence_vec(sentences, keys, tokenizer, model):\n",
    "    encode_keys = word_vec(keys, tokenizer, model)\n",
    "    first_ = list(encode_keys.values())[0]\n",
    "    encode_sentence = {}\n",
    "    for line in sentences.items():\n",
    "        line_vec = torch.zeros_like(first_)\n",
    "        for word in line[1]:\n",
    "            line_vec += encode_keys[word]\n",
    "        encode_sentence[line[0]] = line_vec.tolist()\n",
    "    return encode_sentence"
   ]
  },
  {
   "cell_type": "code",
   "execution_count": 4,
   "id": "afae1833-4a19-49b2-bf1c-2807e783fb0c",
   "metadata": {},
   "outputs": [],
   "source": [
    "# name = '../data/HDFS/result_logRel/HDFS_30s'\n",
    "# name = '../data/Thunderbird/result_logRel/TB_20s100m'\n",
    "name = '../data/BGL/result_logRel/BGL_30s100m'\n",
    "input_dir = name + '.log_templates.csv'\n",
    "output_dir = name + '_sentences_emb.json'\n",
    "model_path = \"../model/bert\""
   ]
  },
  {
   "cell_type": "code",
   "execution_count": 5,
   "id": "0b732725-0637-4724-9904-f363eccfd12d",
   "metadata": {
    "tags": []
   },
   "outputs": [
    {
     "name": "stderr",
     "output_type": "stream",
     "text": [
      "Some weights of the model checkpoint at ../model/bert were not used when initializing BertModel: ['cls.predictions.bias', 'cls.seq_relationship.weight', 'cls.predictions.transform.LayerNorm.bias', 'cls.predictions.decoder.weight', 'cls.predictions.transform.LayerNorm.weight', 'cls.predictions.transform.dense.bias', 'cls.predictions.transform.dense.weight', 'cls.seq_relationship.bias']\n",
      "- This IS expected if you are initializing BertModel from the checkpoint of a model trained on another task or with another architecture (e.g. initializing a BertForSequenceClassification model from a BertForPreTraining model).\n",
      "- This IS NOT expected if you are initializing BertModel from the checkpoint of a model that you expect to be exactly identical (initializing a BertForSequenceClassification model from a BertForSequenceClassification model).\n"
     ]
    },
    {
     "name": "stdout",
     "output_type": "stream",
     "text": [
      "Embedding Done\n"
     ]
    }
   ],
   "source": [
    "# word Embedding编码\n",
    "datas = pd.read_csv(input_dir)\n",
    "\n",
    "# loading model\n",
    "tokenizer = AutoTokenizer.from_pretrained(model_path)\n",
    "model = BertModel.from_pretrained(model_path)\n",
    "\n",
    "sentences = {line[0]:get_keys(line[1]) for line in zip(datas['EventId'], datas['EventTemplate'])}\n",
    "keys = feature_select([item[1] for item in sentences.items()])\n",
    "encode_sentence = sentence_vec(sentences, keys, tokenizer, model)\n",
    "\n",
    "save_js = json.dumps(encode_sentence)\n",
    "f2 = open(output_dir, 'w')\n",
    "f2.write(save_js)\n",
    "f2.close()\n",
    "print('Embedding Done')"
   ]
  },
  {
   "cell_type": "code",
   "execution_count": null,
   "id": "9d620f32-ac52-4177-bcc6-aebbcff234a1",
   "metadata": {},
   "outputs": [],
   "source": []
  }
 ],
 "metadata": {
  "kernelspec": {
   "display_name": "Python 3 (ipykernel)",
   "language": "python",
   "name": "python3"
  },
  "language_info": {
   "codemirror_mode": {
    "name": "ipython",
    "version": 3
   },
   "file_extension": ".py",
   "mimetype": "text/x-python",
   "name": "python",
   "nbconvert_exporter": "python",
   "pygments_lexer": "ipython3",
   "version": "3.9.7"
  }
 },
 "nbformat": 4,
 "nbformat_minor": 5
}
