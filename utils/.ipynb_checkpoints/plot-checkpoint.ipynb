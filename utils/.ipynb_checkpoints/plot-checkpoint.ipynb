{
 "cells": [
  {
   "cell_type": "code",
   "execution_count": 1,
   "id": "68278ee0-2110-48a8-9861-79cd26c153ac",
   "metadata": {},
   "outputs": [],
   "source": [
    "import matplotlib.pyplot as plt\n",
    "from sklearn.manifold import TSNE\n",
    "import numpy as np\n",
    "import torch\n",
    "from torch.autograd import Variable\n",
    "import matplotlib.patches as mpatches\n",
    "import os"
   ]
  },
  {
   "cell_type": "code",
   "execution_count": null,
   "id": "d54c2a46-99d1-4de2-bc3f-3e11086a627e",
   "metadata": {},
   "outputs": [],
   "source": [
    "contextlist = torch.load('/home/pyy/code/Google_Model/data/prepared_data/2fangx0_context.pt')"
   ]
  },
  {
   "cell_type": "code",
   "execution_count": null,
   "id": "ca86ae3d-8773-4d59-b1c1-e1d092d157eb",
   "metadata": {},
   "outputs": [],
   "source": [
    "screenlist = np.load('/home/pyy/code/Google_Model/data/prepared_data/2fangx0_screenlist.npy', allow_pickle=True)"
   ]
  },
  {
   "cell_type": "code",
   "execution_count": 2,
   "id": "584cdc34-80cf-4af3-aa2a-05ff4d514fc5",
   "metadata": {},
   "outputs": [],
   "source": [
    "def TIME_DISTRIBUTIOM(hod , dow):\n",
    "    plt.hist2d(hod,dow,#一维数组\n",
    "           bins=[24,7],#int 或者[int,int]分别对x,y.或者array对x,y相同的不同分区，或者[array,array]\n",
    "           cmap='Blues',\n",
    "           cmin=0,#过滤掉低于该值的bins。返回值也会被设为np.nan.cmax同\n",
    "           )\n",
    "    plt.colorbar()\n",
    "    scale_ls = range(7)\n",
    "    plt.xlabel(\"Hours of the Day\",labelpad=12)\n",
    "    plt.ylabel(\"Days of the Week\",labelpad=12)\n",
    "    index_ls = ['Mon','Tue','Wed','Thu','Fri','Sat','Sun']\n",
    "    _ = plt.yticks(scale_ls,index_ls)\n",
    "    plt.savefig('TIME_DISTRIBUTION.png', format='png', dpi=500, bbox_inches = 'tight')\n",
    "def ELEMENT_COUNT(ele_number, bins = 20):\n",
    "    plt.hist(x = ele_number,bins = 20,edgecolor = 'white')\n",
    "    plt.savefig('ELEMENT_COUNT.png', format='png', dpi=500, bbox_inches = 'tight')"
   ]
  },
  {
   "cell_type": "code",
   "execution_count": 61,
   "id": "237f64e6-9020-46b6-966a-f2e2fefd2afa",
   "metadata": {
    "tags": []
   },
   "outputs": [],
   "source": [
    "inputPath = \"/home/pyy/code/Google_Model/data/prepared_data/\"\n",
    "files = os.listdir(inputPath)\n",
    "dow = []\n",
    "hod = []\n",
    "for file in files:\n",
    "    Local = os.path.join(inputPath, file)\n",
    "    if 'app' in Local:\n",
    "        path = file[:-8]\n",
    "        contextpath = inputPath + path + '_context.pt'\n",
    "        contextlist = torch.load(contextpath)\n",
    "        for i in range(contextlist.shape[1]):\n",
    "            c = contextlist[:,i]\n",
    "            for line in range(7):\n",
    "                if c[line] == 1:\n",
    "                    dow.append(line)\n",
    "            for col in range(24):\n",
    "                if c[col +7] == 1:\n",
    "                    if col + 8 < 24:\n",
    "                        hod.append(col+8)\n",
    "                    else:\n",
    "                        hod.append(col+8-24)\n",
    "a=np.array(hod)\n",
    "np.save('hod.npy',a)\n",
    "a=np.array(dow)\n",
    "np.save('dow.npy',a)"
   ]
  },
  {
   "cell_type": "code",
   "execution_count": 185,
   "id": "382c5758-9669-48b3-b20c-6a4b5e4e624f",
   "metadata": {
    "tags": []
   },
   "outputs": [
    {
     "data": {
      "image/png": "[encoded data removed]",
      "text/plain": [
       "<Figure size 432x288 with 2 Axes>"
      ]
     },
     "metadata": {
      "needs_background": "light"
     },
     "output_type": "display_data"
    }
   ],
   "source": [
    "TIME_DISTRIBUTIOM(hod , dow)"
   ]
  },
  {
   "cell_type": "code",
   "execution_count": null,
   "id": "bf62646e-a393-4374-8f9b-d75691d9534b",
   "metadata": {},
   "outputs": [],
   "source": [
    "# 统计信息\n",
    "ele_number = []\n",
    "inputPath = \"/home/pyy/code/Google_Model/data/prepared_data/\"\n",
    "files = os.listdir(inputPath)\n",
    "files = sorted(files)\n",
    "Locals = []\n",
    "for file in files:\n",
    "    Local = os.path.join(inputPath, file)\n",
    "    linenum = 0\n",
    "    if 'app' in Local:\n",
    "        path = file[:-8]\n",
    "        scpath = inputPath + path + '_screenlist.npy'\n",
    "        sclist=np.load(scpath, allow_pickle=True)\n",
    "        for s in sclist:\n",
    "            ele_number.append(len(s))\n",
    "a=np.array(ele_number)\n",
    "np.save('ele_number.npy',a)"
   ]
  },
  {
   "cell_type": "code",
   "execution_count": 150,
   "id": "fcca76b8-4d0c-4872-9cdd-705bf41a7cdb",
   "metadata": {},
   "outputs": [
    {
     "name": "stdout",
     "output_type": "stream",
     "text": [
      "                频数       频率f     频率%     累计频率f      累计频率%\n",
      "(0, 5]      204485  0.055804   5.58%  0.055804    5.5804%\n",
      "(5, 10]     266632  0.072764   7.28%  0.128569   12.8569%\n",
      "(10, 15]    359733  0.098172   9.82%  0.226740   22.6740%\n",
      "(15, 20]    374685  0.102252  10.23%  0.328992   32.8992%\n",
      "(20, 25]    586646  0.160097  16.01%  0.489089   48.9089%\n",
      "(25, 30]    660673  0.180299  18.03%  0.669388   66.9388%\n",
      "(30, 35]    455593  0.124332  12.43%  0.793720   79.3720%\n",
      "(35, 40]    263535  0.071919   7.19%  0.865639   86.5639%\n",
      "(40, 45]    149768  0.040872   4.09%  0.906511   90.6511%\n",
      "(45, 50]    104321  0.028469   2.85%  0.934980   93.4980%\n",
      "(50, 55]     68252  0.018626   1.86%  0.953606   95.3606%\n",
      "(55, 60]     52009  0.014193   1.42%  0.967800   96.7800%\n",
      "(60, 65]     31179  0.008509   0.85%  0.976308   97.6308%\n",
      "(65, 70]     22143  0.006043   0.60%  0.982351   98.2351%\n",
      "(70, 75]     20202  0.005513   0.55%  0.987864   98.7864%\n",
      "(75, 80]     17040  0.004650   0.47%  0.992515   99.2515%\n",
      "(80, 85]     11499  0.003138   0.31%  0.995653   99.5653%\n",
      "(85, 90]      5990  0.001635   0.16%  0.997287   99.7287%\n",
      "(90, 95]      4920  0.001343   0.13%  0.998630   99.8630%\n",
      "(95, 100]     5020  0.001370   0.14%  1.000000  100.0000%\n",
      "(100, 101]       0  0.000000   0.00%  1.000000  100.0000%\n"
     ]
    }
   ],
   "source": [
    "data = pd.DataFrame({\"value\":ele_number})\n",
    "cats1 = pd.cut(data['value'].values, bins=[0, 5 ,10,15, 20, 25,30,35, 40,45, 50, 55,60, 65,70,75, 80,85, 90,95, 100, data['value'].max()+1])\n",
    "pinshu = cats1.value_counts() \n",
    "pinshu_df = pd.DataFrame(pinshu, columns=['频数'])\n",
    "pinshu_df['频率f'] = pinshu_df / pinshu_df['频数'].sum()\n",
    "pinshu_df['频率%'] = pinshu_df['频率f'].map(lambda x: '%.2f%%' % (x * 100))\n",
    "pinshu_df['累计频率f'] = pinshu_df['频率f'].cumsum()\n",
    "pinshu_df['累计频率%'] = pinshu_df['累计频率f'].map(lambda x: '%.4f%%' % (x * 100))\n",
    "print(pinshu_df)"
   ]
  },
  {
   "cell_type": "code",
   "execution_count": 155,
   "id": "191aaa9b-72f1-40c2-a40a-eb4798ed7ea6",
   "metadata": {
    "jupyter": {
     "source_hidden": true
    },
    "tags": []
   },
   "outputs": [],
   "source": [
    "count = pinshu.tolist()\n",
    "for c in count:\n",
    "    c = c/1000"
   ]
  },
  {
   "cell_type": "code",
   "execution_count": 5,
   "id": "9e66fe46-f47a-441c-b1b7-c283defdbb69",
   "metadata": {
    "jupyter": {
     "source_hidden": true
    },
    "tags": []
   },
   "outputs": [],
   "source": [
    "ele = []\n",
    "for i in range(204):\n",
    "    ele.append(2)\n",
    "for i in range(266):\n",
    "    ele.append(7)\n",
    "for i in range(360):\n",
    "    ele.append(12)\n",
    "for i in range(375):\n",
    "    ele.append(17)\n",
    "for i in range(586):\n",
    "    ele.append(22)\n",
    "for i in range(661):\n",
    "    ele.append(27)\n",
    "for i in range(446):\n",
    "    ele.append(32)\n",
    "for i in range(264):\n",
    "    ele.append(37)\n",
    "for i in range(150):\n",
    "    ele.append(42)\n",
    "for i in range(104):\n",
    "    ele.append(47)\n",
    "for i in range(68):\n",
    "    ele.append(52)\n",
    "for i in range(52):\n",
    "    ele.append(57)\n",
    "for i in range(31):\n",
    "    ele.append(62)\n",
    "for i in range(22):\n",
    "    ele.append(67)\n",
    "for i in range(20):\n",
    "    ele.append(72)\n",
    "for i in range(17):\n",
    "    ele.append(77)\n",
    "for i in range(11):\n",
    "    ele.append(82)\n",
    "for i in range(6):\n",
    "    ele.append(87)\n",
    "for i in range(5):\n",
    "    ele.append(92)\n",
    "for i in range(5):\n",
    "    ele.append(97)"
   ]
  },
  {
   "cell_type": "code",
   "execution_count": 7,
   "id": "70b5824d-bbd3-48ba-b157-96c6084818b5",
   "metadata": {},
   "outputs": [
    {
     "data": {
      "image/png": "[encoded data removed]",
      "text/plain": [
       "<Figure size 432x288 with 1 Axes>"
      ]
     },
     "metadata": {
      "needs_background": "light"
     },
     "output_type": "display_data"
    }
   ],
   "source": [
    "plt.hist(x = np.array(ele),bins = 20,edgecolor = 'white')\n",
    "index_ls = ['0','100','200','300','400','500','600']\n",
    "scale_ls = range(7)\n",
    "plt.xlabel(\"The Number of Elements\",labelpad=12)\n",
    "plt.ylabel(\"The Number of UIs(e3)\",labelpad=12)\n",
    "# plt.yticks(scale_ls,np.array(index_ls) )\n",
    "# plt.yticks(index_ls)\n",
    "# plt.yscale('log')#设置纵坐标的缩放\n",
    "plt.savefig('ELEMENT_COUNT.png', format='png', dpi=500, bbox_inches = 'tight')"
   ]
  },
  {
   "cell_type": "code",
   "execution_count": 22,
   "id": "8ad7305f-3972-4dff-bc52-f14fd57f04f7",
   "metadata": {},
   "outputs": [],
   "source": [
    "from matplotlib import font_manager\n",
    "font_list = [x.name for x in font_manager.fontManager.ttflist]\n",
    "plt.rcParams['font.sans-serif']=['STIX']"
   ]
  },
  {
   "cell_type": "code",
   "execution_count": 34,
   "id": "05783095-0dd8-4bab-ad33-63f25ba84f0b",
   "metadata": {
    "tags": []
   },
   "outputs": [],
   "source": [
    "config = {\n",
    "            \"font.family\": 'serif',\n",
    "            \"font.size\": 12,# 相当于小四大小\n",
    "            \"mathtext.fontset\": 'stix',#matplotlib渲染数学字体时使用的字体，和Times New Roman差别不大\n",
    "            \"font.serif\": ['SimSun'],#宋体\n",
    "            'axes.unicode_minus': False # 处理负号，即-号\n",
    "         }\n",
    "rcParams.update(config)"
   ]
  },
  {
   "cell_type": "code",
   "execution_count": 54,
   "id": "c451c6bf-fdb3-4d98-a9cc-3eccd18e2217",
   "metadata": {},
   "outputs": [
    {
     "data": {
      "image/png": "[encoded data removed]",
      "text/plain": [
       "<Figure size 720x324 with 1 Axes>"
      ]
     },
     "metadata": {
      "needs_background": "light"
     },
     "output_type": "display_data"
    }
   ],
   "source": [
    "from matplotlib import rcParams\n",
    "import matplotlib.font_manager as fm\n",
    "x = np.array([\"WeChat\", \"QQ\", \"Bilibili\", \"DouyinLite\", \"RED\", \"MicroBlog\", \"Taobao\", \"Alipay\", \"Baidu Tieba\", \"Zhihu\"])\n",
    "y = np.array([89.2777, 25.8443, 21.6241, 13.4003, 11.0049, 9.8614, 9.2143, 6.0714, 5.4113, 4.9018])\n",
    "plt.figure(figsize=(10,4.5))\n",
    "plt.bar(x,y,width = 0.5)\n",
    "fontdict = {'family': 'Times New Roman'}\n",
    "plt.xlabel(\"Apps\",labelpad=12,fontdict=fontdict)\n",
    "plt.ylabel(\"The Number of Clicks(e4)\",labelpad=12,fontdict=fontdict)\n",
    "plt.yticks(fontproperties='Times New Roman')\n",
    "plt.xticks(fontproperties='Times New Roman')\n",
    "plt.savefig('TOP-10APP.png', format='png', dpi=500, bbox_inches = 'tight')"
   ]
  },
  {
   "cell_type": "code",
   "execution_count": 57,
   "id": "645b62b9-082f-4597-9ccf-fe8ebbfefb6e",
   "metadata": {},
   "outputs": [
    {
     "name": "stderr",
     "output_type": "stream",
     "text": [
      "Font 'default' does not have a glyph for '\\u82f1' [U+82f1], substituting with a dummy symbol.\n",
      "Font 'default' does not have a glyph for '\\u6587' [U+6587], substituting with a dummy symbol.\n",
      "Font 'default' does not have a glyph for '\\uff1a' [U+ff1a], substituting with a dummy symbol.\n",
      "Font 'default' does not have a glyph for '\\u516c' [U+516c], substituting with a dummy symbol.\n",
      "Font 'default' does not have a glyph for '\\u5f0f' [U+5f0f], substituting with a dummy symbol.\n",
      "Font 'default' does not have a glyph for '\\uff1a' [U+ff1a], substituting with a dummy symbol.\n",
      "Font 'default' does not have a glyph for '\\u82f1' [U+82f1], substituting with a dummy symbol.\n",
      "Font 'default' does not have a glyph for '\\u6587' [U+6587], substituting with a dummy symbol.\n",
      "Font 'default' does not have a glyph for '\\uff1a' [U+ff1a], substituting with a dummy symbol.\n",
      "Font 'default' does not have a glyph for '\\u516c' [U+516c], substituting with a dummy symbol.\n",
      "Font 'default' does not have a glyph for '\\u5f0f' [U+5f0f], substituting with a dummy symbol.\n",
      "Font 'default' does not have a glyph for '\\uff1a' [U+ff1a], substituting with a dummy symbol.\n"
     ]
    },
    {
     "data": {
      "image/png": "[encoded data removed]",
      "text/plain": [
       "<Figure size 432x288 with 1 Axes>"
      ]
     },
     "metadata": {
      "needs_background": "light"
     },
     "output_type": "display_data"
    }
   ],
   "source": [
    "import matplotlib.pyplot as plt\n",
    "from matplotlib import rcParams\n",
    "import numpy as np\n",
    "\n",
    "config = {\n",
    "    \"font.family\":'serif',\n",
    "    \"font.size\": 18,\n",
    "    \"mathtext.fontset\":'stix',\n",
    "}\n",
    "rcParams.update(config)\n",
    "\n",
    "x = np.random.random((10,))\n",
    "\n",
    "\n",
    "plt.plot(x,label='随机数')\n",
    "plt.title('中文：宋体 \\n 英文：$\\mathrm{Times \\; New \\; Roman}$ \\n 公式： $\\\\alpha_i + \\\\beta_i = \\\\gamma^k$')\n",
    "plt.xlabel('sysh')\n",
    "plt.ylabel('sdsd')\n",
    "plt.legend()\n",
    "plt.yticks(fontproperties='Times New Roman', size=18)\n",
    "plt.xticks(fontproperties='Times New Roman', size=18)\n",
    "plt.show()\n"
   ]
  }
 ],
 "metadata": {
  "kernelspec": {
   "display_name": "Python 3 (ipykernel)",
   "language": "python",
   "name": "python3"
  },
  "language_info": {
   "codemirror_mode": {
    "name": "ipython",
    "version": 3
   },
   "file_extension": ".py",
   "mimetype": "text/x-python",
   "name": "python",
   "nbconvert_exporter": "python",
   "pygments_lexer": "ipython3",
   "version": "3.10.4"
  }
 },
 "nbformat": 4,
 "nbformat_minor": 5
}
